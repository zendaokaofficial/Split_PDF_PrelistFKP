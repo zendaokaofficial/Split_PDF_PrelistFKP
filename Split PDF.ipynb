{
 "cells": [
  {
   "cell_type": "code",
   "execution_count": 1,
   "id": "c8fa0eb3",
   "metadata": {},
   "outputs": [],
   "source": [
    "from PyPDF2 import PdfReader, PdfWriter\n",
    "import PyPDF2"
   ]
  },
  {
   "cell_type": "code",
   "execution_count": 3,
   "id": "0c90a59c",
   "metadata": {},
   "outputs": [],
   "source": [
    "path = 'C:/Users/Zenda Oka B/Downloads/REGSOSEK22-FKP_5151025102080_PUPUAN.pdf'\n",
    "\n",
    "# creating a pdf reader object\n",
    "reader = PyPDF2.PdfReader(path)\n",
    "\n",
    "# print the text of the first page\n",
    "id = []\n",
    "for i in range(len(reader.pages)):\n",
    "    if reader.pages[i].extract_text()[0:7] == \"RAHASIA\":\n",
    "        id.append(i)\n",
    "\n",
    "# add last page\n",
    "id.append(len(reader.pages))"
   ]
  },
  {
   "cell_type": "code",
   "execution_count": 5,
   "id": "d83a0e7b",
   "metadata": {},
   "outputs": [
    {
     "data": {
      "text/plain": [
       "'5102080003000101'"
      ]
     },
     "execution_count": 5,
     "metadata": {},
     "output_type": "execute_result"
    }
   ],
   "source": [
    "# File Name\n",
    "reader.pages[1].extract_text()[1031:1047]"
   ]
  },
  {
   "cell_type": "code",
   "execution_count": 12,
   "id": "e5ea074f",
   "metadata": {},
   "outputs": [
    {
     "name": "stdout",
     "output_type": "stream",
     "text": [
      "stop\n"
     ]
    }
   ],
   "source": [
    "#reader = PdfReader(file_name)\n",
    "writer = PdfWriter()\n",
    "for i in range(len(id)):\n",
    "    \n",
    "    try:\n",
    "        page_range = range(id[i] + 1, id[i+1] + 1)\n",
    "\n",
    "        writer = PdfWriter()\n",
    "        for page_num, page in enumerate(reader.pages, 1):\n",
    "            if page_num in page_range:\n",
    "                writer.add_page(page)\n",
    "\n",
    "        with open(f'D:/BPS Tabanan/2023/REGSOSEK/FKP/PUPUAN/{reader.pages[id[i]+1].extract_text()[1031:1047]}.pdf', 'wb') as out:\n",
    "            writer.write(out)\n",
    "            out.close()\n",
    "    except:\n",
    "        print(f'stop')"
   ]
  }
 ],
 "metadata": {
  "kernelspec": {
   "display_name": "Python 3 (ipykernel)",
   "language": "python",
   "name": "python3"
  },
  "language_info": {
   "codemirror_mode": {
    "name": "ipython",
    "version": 3
   },
   "file_extension": ".py",
   "mimetype": "text/x-python",
   "name": "python",
   "nbconvert_exporter": "python",
   "pygments_lexer": "ipython3",
   "version": "3.9.12"
  }
 },
 "nbformat": 4,
 "nbformat_minor": 5
}
